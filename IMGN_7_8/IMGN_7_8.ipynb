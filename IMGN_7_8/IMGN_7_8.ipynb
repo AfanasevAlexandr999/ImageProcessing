{
 "cells": [
  {
   "cell_type": "code",
   "execution_count": 2,
   "id": "d5d62d24",
   "metadata": {},
   "outputs": [
    {
     "name": "stdout",
     "output_type": "stream",
     "text": [
      "Размер оригинального изображения: 960000 байт\n",
      "Размер сжатого изображения: 190884 байт\n",
      "Сжалось в: 5.03\n"
     ]
    }
   ],
   "source": [
    "import numpy as np\n",
    "import cv2\n",
    "from collections import Counter\n",
    "\n",
    "image_path = 'sar_1_gray.jpg'\n",
    "image = cv2.imread(image_path, cv2.IMREAD_GRAYSCALE)\n",
    "image = image.astype(np.float32)\n",
    "np.savetxt('image.txt', image, fmt=\"%d\")\n",
    "\n",
    "def haar_transform(img):\n",
    "    h, w = img.shape\n",
    "    temp = np.zeros_like(image, dtype=np.float32)\n",
    "    for i in range(h):\n",
    "        for j in range(0, w, 2):\n",
    "            if j + 1 < w:\n",
    "                temp[i, j // 2] = (image[i, j] + image[i, j + 1]) / 2\n",
    "                temp[i, j // 2 + w // 2] = (image[i, j] - image[i, j + 1]) / 2\n",
    "    result = np.zeros_like(temp, dtype=np.float32)\n",
    "    for j in range(w):\n",
    "        for i in range(0, h, 2):\n",
    "            if i + 1 < h:\n",
    "                result[i // 2, j] = (temp[i, j] + temp[i + 1, j]) / 2\n",
    "                result[i // 2 + h // 2, j] = (temp[i, j] - temp[i + 1, j]) / 2\n",
    "    ll = result[:h // 2, :w // 2]\n",
    "    hl = result[h // 2:, :w // 2]\n",
    "    lh = result[:h // 2, w // 2:]\n",
    "    hh = result[h // 2:, w // 2:]\n",
    "    return ll, lh, hl, hh\n",
    "\n",
    "ll, lh, hl, hh = haar_transform(image)\n",
    "n_quants = 4\n",
    "\n",
    "\n",
    "def quantize(coeffs, n_quants):\n",
    "    min_val = np.min(coeffs)\n",
    "    max_val = np.max(coeffs)\n",
    "    step = (max_val - min_val) / n_quants\n",
    "    quantized = np.round((coeffs - min_val) / step).astype(int)\n",
    "    return quantized, min_val, step\n",
    "lh_q, lh_min, lh_step = quantize(lh, n_quants)\n",
    "hl_q, hl_min, hl_step = quantize(hl, n_quants)\n",
    "hh_q, hh_min, hh_step = quantize(hh, n_quants)\n",
    "\n",
    "def run_length_encode(data):\n",
    "    encoded = []\n",
    "    for value, count in Counter(data.flatten()).items():\n",
    "        encoded.append((value, count))\n",
    "    return encoded\n",
    "lh_rle = run_length_encode(lh_q)\n",
    "hl_rle = run_length_encode(hl_q)\n",
    "hh_rle = run_length_encode(hh_q)\n",
    "\n",
    "with open('wavelet_data.txt', 'w') as f:\n",
    "    np.savetxt(f, ll, fmt='%d')\n",
    "    f.write('\\n')\n",
    "    for value, count in lh_rle:\n",
    "        f.write(f\"{value} {count}\\n\")\n",
    "    f.write('\\n')\n",
    "    for value, count in hl_rle:\n",
    "        f.write(f\"{value} {count}\\n\")\n",
    "    f.write('\\n')\n",
    "    for value, count in hh_rle:\n",
    "        f.write(f\"{value} {count}\\n\")\n",
    "original_size = image.nbytes\n",
    "compressed_size = 0\n",
    "\n",
    "with open('wavelet_data.txt', 'r') as f:\n",
    "    compressed_size = len(f.read().encode('utf-8'))\n",
    "\n",
    "print(f\"Размер оригинального изображения: {original_size} байт\")\n",
    "print(f\"Размер сжатого изображения: {compressed_size} байт\")\n",
    "print(f\"Сжалось в: {original_size / compressed_size:.2f}\")"
   ]
  }
 ],
 "metadata": {
  "kernelspec": {
   "display_name": "Python 3",
   "language": "python",
   "name": "python3"
  },
  "language_info": {
   "codemirror_mode": {
    "name": "ipython",
    "version": 3
   },
   "file_extension": ".py",
   "mimetype": "text/x-python",
   "name": "python",
   "nbconvert_exporter": "python",
   "pygments_lexer": "ipython3",
   "version": "3.10.10"
  }
 },
 "nbformat": 4,
 "nbformat_minor": 5
}
